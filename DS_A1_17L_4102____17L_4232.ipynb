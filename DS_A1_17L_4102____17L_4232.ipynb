{
  "nbformat": 4,
  "nbformat_minor": 0,
  "metadata": {
    "colab": {
      "name": "DS_A1_17L-4102 && 17L-4232.ipynb",
      "provenance": [],
      "collapsed_sections": []
    },
    "kernelspec": {
      "name": "python3",
      "display_name": "Python 3"
    },
    "language_info": {
      "name": "python"
    }
  },
  "cells": [
    {
      "cell_type": "markdown",
      "metadata": {
        "id": "fq8r8mHMYo0Q"
      },
      "source": [
        "Assignment#1 \n",
        "DS-B\n",
        "Group Members:\n",
        "Muhammad Usman Zahoor 17L-4102\n",
        "Sana Shakoor 17L-4232"
      ]
    },
    {
      "cell_type": "markdown",
      "metadata": {
        "id": "fImS9NwgvXnw"
      },
      "source": [
        "Part 1\n",
        "Single Variable"
      ]
    },
    {
      "cell_type": "code",
      "metadata": {
        "id": "D4k6LH2TZYbO"
      },
      "source": [
        "import numpy as np\n",
        "import matplotlib.pyplot as plt"
      ],
      "execution_count": null,
      "outputs": []
    },
    {
      "cell_type": "code",
      "metadata": {
        "colab": {
          "base_uri": "https://localhost:8080/",
          "height": 265
        },
        "id": "g7xReBpLaBV1",
        "outputId": "be90a93e-d77d-41a2-f639-fb4716d87329"
      },
      "source": [
        "data = np.loadtxt('ex1data1.txt', delimiter=',')\n",
        "\n",
        "x = data[:,0].reshape(-1, 1)\n",
        "y = data[:,1].reshape(-1, 1)\n",
        "\n",
        "xmax = np.max(x)\n",
        "ymax = np.max(y)\n",
        "\n",
        "x /= xmax\n",
        "y /= ymax\n",
        "\n",
        "x_train = np.ones((x.shape[0], x.shape[1]+1))\n",
        "x_train[:, :-1] = x\n",
        "\n",
        "plt.scatter(x, y, marker='x', color='red')\n",
        "plt.show()"
      ],
      "execution_count": null,
      "outputs": [
        {
          "output_type": "display_data",
          "data": {
            "image/png": "[encoded data removed]",
            "text/plain": [
              "<Figure size 432x288 with 1 Axes>"
            ]
          },
          "metadata": {
            "tags": [],
            "needs_background": "light"
          }
        }
      ]
    },
    {
      "cell_type": "code",
      "metadata": {
        "id": "_1vCGdG13s0Z"
      },
      "source": [
        "def predict(x, theta):\n",
        "  return np.dot(x, theta)"
      ],
      "execution_count": null,
      "outputs": []
    },
    {
      "cell_type": "code",
      "metadata": {
        "id": "eBHjokI0bYk7",
        "colab": {
          "base_uri": "https://localhost:8080/"
        },
        "outputId": "6e0dcba7-23cb-4df9-dc2b-ffab6e008c0f"
      },
      "source": [
        "def regression(x, y):\n",
        "  l = 0.1\n",
        "  n = x.shape[0]\n",
        "  n_feat = x.shape[1]\n",
        "\n",
        "  theta = np.random.rand(n_feat, 1)\n",
        "\n",
        "  for i in range(50):\n",
        "    pred = np.dot(x, theta)\n",
        "    error = pred-y\n",
        "    theta -= l * np.dot(x.T, error)/n\n",
        "    cost =  np.sum(np.square(error)) / (2*n)\n",
        "\n",
        "  return theta\n",
        "\n",
        "\n",
        "n = 23\n",
        "theta = regression(x_train, y)\n",
        "predict(x_train[n], theta) * ymax"
      ],
      "execution_count": null,
      "outputs": [
        {
          "output_type": "execute_result",
          "data": {
            "text/plain": [
              "array([5.33555229])"
            ]
          },
          "metadata": {
            "tags": []
          },
          "execution_count": 194
        }
      ]
    },
    {
      "cell_type": "markdown",
      "metadata": {
        "id": "eCL7R7BWvkdw"
      },
      "source": [
        "Part 2 Multivariable Regression"
      ]
    },
    {
      "cell_type": "code",
      "metadata": {
        "colab": {
          "base_uri": "https://localhost:8080/"
        },
        "id": "O2K7o105o1A-",
        "outputId": "7436c9ed-c13e-44b1-8188-fa6c82ce77ae"
      },
      "source": [
        "data = np.loadtxt('ex1data2.txt', delimiter=',')\n",
        "\n",
        "x = data[:,:-1]\n",
        "y = data[:,-1].reshape(-1, 1)\n",
        "\n",
        "xmax = np.amax(x, 0)\n",
        "ymax = np.max(y)\n",
        "\n",
        "print(x.shape, y.shape)\n",
        "\n",
        "x[:,0] /= xmax[0]\n",
        "x[:,1] /= xmax[1]\n",
        "\n",
        "x_train = np.ones((x.shape[0], x.shape[1]+1))\n",
        "x_train[:, :-1] = x\n",
        "\n",
        "y /= ymax"
      ],
      "execution_count": null,
      "outputs": [
        {
          "output_type": "stream",
          "text": [
            "(47, 2) (47, 1)\n"
          ],
          "name": "stdout"
        }
      ]
    },
    {
      "cell_type": "code",
      "metadata": {
        "colab": {
          "base_uri": "https://localhost:8080/"
        },
        "id": "fcQqO9TjmMWB",
        "outputId": "1d22e6cf-514f-4c6f-aad1-497428b9b1e0"
      },
      "source": [
        "theta = regression(x_train, y)\n",
        "\n",
        "n = 23\n",
        "predict(x_train[n], theta) * ymax"
      ],
      "execution_count": null,
      "outputs": [
        {
          "output_type": "execute_result",
          "data": {
            "text/plain": [
              "array([347150.16966151])"
            ]
          },
          "metadata": {
            "tags": []
          },
          "execution_count": 198
        }
      ]
    },
    {
      "cell_type": "markdown",
      "metadata": {
        "id": "wQ74cDwbvsPU"
      },
      "source": [
        "Normal Equation"
      ]
    },
    {
      "cell_type": "code",
      "metadata": {
        "colab": {
          "base_uri": "https://localhost:8080/"
        },
        "id": "gvZzo3o-vumy",
        "outputId": "6ea9dc8d-ad6a-4a44-c998-e578641e006f"
      },
      "source": [
        "data = np.loadtxt('ex1data2.txt', delimiter=',')\n",
        "\n",
        "x = data[:,:-1]\n",
        "y = data[:,-1].reshape(-1, 1)\n",
        "\n",
        "x_train = np.ones((x.shape[0], x.shape[1]+1))\n",
        "x_train[:, 1:] = x\n",
        "\n",
        "x = x_train\n",
        "print(x.shape, y.shape)"
      ],
      "execution_count": null,
      "outputs": [
        {
          "output_type": "stream",
          "text": [
            "(47, 3) (47, 1)\n"
          ],
          "name": "stdout"
        }
      ]
    },
    {
      "cell_type": "code",
      "metadata": {
        "colab": {
          "base_uri": "https://localhost:8080/"
        },
        "id": "hBIVUTFqwkWe",
        "outputId": "b4d50d1d-5d10-46ab-c234-0211e333fd40"
      },
      "source": [
        "X = x\n",
        "y_train = y\n",
        "theta = np.dot(np.linalg.inv(np.dot(X.T, X)) , np.dot(X.T, y_train))\n",
        "\n",
        "pred = np.dot(x, theta)\n",
        "error = pred-y\n",
        "cost =  np.sum(np.square(error)) / (2*len(x))\n",
        "\n",
        "\n",
        "x_pred = [1, 16500, 3]\n",
        "predict(x_pred, theta)"
      ],
      "execution_count": null,
      "outputs": [
        {
          "output_type": "execute_result",
          "data": {
            "text/plain": [
              "array([2360360.36580963])"
            ]
          },
          "metadata": {
            "tags": []
          },
          "execution_count": 207
        }
      ]
    }
  ]
}